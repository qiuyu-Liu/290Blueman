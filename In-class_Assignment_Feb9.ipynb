{
 "cells": [
  {
   "cell_type": "code",
   "execution_count": 1,
   "metadata": {
    "deletable": false,
    "editable": false
   },
   "outputs": [],
   "source": [
    "# Initialize Otter Grader\n",
    "import otter\n",
    "grader = otter.Notebook()"
   ]
  },
  {
   "cell_type": "markdown",
   "metadata": {},
   "source": [
    "![data-x](https://raw.githubusercontent.com/afo/data-x-plaksha/master/imgsource/dx_logo.png)\n"
   ]
  },
  {
   "cell_type": "markdown",
   "metadata": {},
   "source": [
    "\n",
    "# In-class Assignment (Feb 9)"
   ]
  },
  {
   "cell_type": "markdown",
   "metadata": {},
   "source": [
    "Run the following two cells to load the required modules and read the data."
   ]
  },
  {
   "cell_type": "code",
   "execution_count": 2,
   "metadata": {
    "scrolled": true
   },
   "outputs": [],
   "source": [
    "import pandas as pd\n",
    "import numpy as np\n",
    "import matplotlib.pyplot as plt\n",
    "from sklearn.model_selection import train_test_split\n",
    "from sklearn.linear_model import LinearRegression\n",
    "from sklearn.metrics import mean_squared_error"
   ]
  },
  {
   "cell_type": "code",
   "execution_count": 3,
   "metadata": {
    "scrolled": true
   },
   "outputs": [
    {
     "data": {
      "text/html": [
       "<div>\n",
       "<style scoped>\n",
       "    .dataframe tbody tr th:only-of-type {\n",
       "        vertical-align: middle;\n",
       "    }\n",
       "\n",
       "    .dataframe tbody tr th {\n",
       "        vertical-align: top;\n",
       "    }\n",
       "\n",
       "    .dataframe thead th {\n",
       "        text-align: right;\n",
       "    }\n",
       "</style>\n",
       "<table border=\"1\" class=\"dataframe\">\n",
       "  <thead>\n",
       "    <tr style=\"text-align: right;\">\n",
       "      <th></th>\n",
       "      <th>Name</th>\n",
       "      <th>Console</th>\n",
       "      <th>Year_of_Release</th>\n",
       "      <th>Genre</th>\n",
       "      <th>Publisher</th>\n",
       "      <th>NA_Sales</th>\n",
       "      <th>EU_Sales</th>\n",
       "      <th>JP_Sales</th>\n",
       "      <th>Other_Sales</th>\n",
       "      <th>Global_Sales</th>\n",
       "      <th>Critic_Score</th>\n",
       "      <th>Critic_Count</th>\n",
       "      <th>User_Score</th>\n",
       "      <th>User_Count</th>\n",
       "      <th>Developer</th>\n",
       "      <th>Rating</th>\n",
       "    </tr>\n",
       "  </thead>\n",
       "  <tbody>\n",
       "    <tr>\n",
       "      <th>0</th>\n",
       "      <td>Tekken 3D: Prime Edition</td>\n",
       "      <td>3DS</td>\n",
       "      <td>2012.0</td>\n",
       "      <td>Fighting</td>\n",
       "      <td>Nintendo</td>\n",
       "      <td>0.06</td>\n",
       "      <td>0.07</td>\n",
       "      <td>0.05</td>\n",
       "      <td>0.01</td>\n",
       "      <td>0.20</td>\n",
       "      <td>64.0</td>\n",
       "      <td>42.0</td>\n",
       "      <td>5.9</td>\n",
       "      <td>39.0</td>\n",
       "      <td>Arika</td>\n",
       "      <td>T</td>\n",
       "    </tr>\n",
       "    <tr>\n",
       "      <th>1</th>\n",
       "      <td>Freelancer</td>\n",
       "      <td>PC</td>\n",
       "      <td>2003.0</td>\n",
       "      <td>Simulation</td>\n",
       "      <td>Microsoft Game Studios</td>\n",
       "      <td>0.02</td>\n",
       "      <td>0.02</td>\n",
       "      <td>0.00</td>\n",
       "      <td>0.01</td>\n",
       "      <td>0.05</td>\n",
       "      <td>85.0</td>\n",
       "      <td>39.0</td>\n",
       "      <td>9.0</td>\n",
       "      <td>185.0</td>\n",
       "      <td>Digital Anvil</td>\n",
       "      <td>T</td>\n",
       "    </tr>\n",
       "    <tr>\n",
       "      <th>2</th>\n",
       "      <td>Infernal: Hell's Vengeance</td>\n",
       "      <td>X360</td>\n",
       "      <td>2009.0</td>\n",
       "      <td>Shooter</td>\n",
       "      <td>Playlogic Game Factory</td>\n",
       "      <td>0.06</td>\n",
       "      <td>0.01</td>\n",
       "      <td>0.00</td>\n",
       "      <td>0.01</td>\n",
       "      <td>0.08</td>\n",
       "      <td>35.0</td>\n",
       "      <td>23.0</td>\n",
       "      <td>5.3</td>\n",
       "      <td>10.0</td>\n",
       "      <td>Metropolis Software</td>\n",
       "      <td>M</td>\n",
       "    </tr>\n",
       "    <tr>\n",
       "      <th>3</th>\n",
       "      <td>Marvel Avengers: Battle for Earth</td>\n",
       "      <td>WiiU</td>\n",
       "      <td>2012.0</td>\n",
       "      <td>Action</td>\n",
       "      <td>Ubisoft</td>\n",
       "      <td>0.06</td>\n",
       "      <td>0.04</td>\n",
       "      <td>0.00</td>\n",
       "      <td>0.01</td>\n",
       "      <td>0.12</td>\n",
       "      <td>50.0</td>\n",
       "      <td>10.0</td>\n",
       "      <td>5.0</td>\n",
       "      <td>25.0</td>\n",
       "      <td>Ubisoft Quebec</td>\n",
       "      <td>T</td>\n",
       "    </tr>\n",
       "    <tr>\n",
       "      <th>4</th>\n",
       "      <td>NBA 2K8</td>\n",
       "      <td>PS3</td>\n",
       "      <td>2007.0</td>\n",
       "      <td>Sports</td>\n",
       "      <td>Take-Two Interactive</td>\n",
       "      <td>0.50</td>\n",
       "      <td>0.01</td>\n",
       "      <td>0.00</td>\n",
       "      <td>0.05</td>\n",
       "      <td>0.55</td>\n",
       "      <td>81.0</td>\n",
       "      <td>18.0</td>\n",
       "      <td>6.8</td>\n",
       "      <td>19.0</td>\n",
       "      <td>Visual Concepts</td>\n",
       "      <td>E</td>\n",
       "    </tr>\n",
       "  </tbody>\n",
       "</table>\n",
       "</div>"
      ],
      "text/plain": [
       "                                Name Console  Year_of_Release       Genre  \\\n",
       "0           Tekken 3D: Prime Edition     3DS           2012.0    Fighting   \n",
       "1                         Freelancer      PC           2003.0  Simulation   \n",
       "2         Infernal: Hell's Vengeance    X360           2009.0     Shooter   \n",
       "3  Marvel Avengers: Battle for Earth    WiiU           2012.0      Action   \n",
       "4                            NBA 2K8     PS3           2007.0      Sports   \n",
       "\n",
       "                Publisher  NA_Sales  EU_Sales  JP_Sales  Other_Sales  \\\n",
       "0                Nintendo      0.06      0.07      0.05         0.01   \n",
       "1  Microsoft Game Studios      0.02      0.02      0.00         0.01   \n",
       "2  Playlogic Game Factory      0.06      0.01      0.00         0.01   \n",
       "3                 Ubisoft      0.06      0.04      0.00         0.01   \n",
       "4    Take-Two Interactive      0.50      0.01      0.00         0.05   \n",
       "\n",
       "   Global_Sales  Critic_Score  Critic_Count  User_Score  User_Count  \\\n",
       "0          0.20          64.0          42.0         5.9        39.0   \n",
       "1          0.05          85.0          39.0         9.0       185.0   \n",
       "2          0.08          35.0          23.0         5.3        10.0   \n",
       "3          0.12          50.0          10.0         5.0        25.0   \n",
       "4          0.55          81.0          18.0         6.8        19.0   \n",
       "\n",
       "             Developer Rating  \n",
       "0                Arika      T  \n",
       "1        Digital Anvil      T  \n",
       "2  Metropolis Software      M  \n",
       "3       Ubisoft Quebec      T  \n",
       "4      Visual Concepts      E  "
      ]
     },
     "execution_count": 3,
     "metadata": {},
     "output_type": "execute_result"
    }
   ],
   "source": [
    "df = pd.read_csv(\"Video_Games_Sales_cleaned_sampled.csv\")\n",
    "df.head(5)"
   ]
  },
  {
   "cell_type": "markdown",
   "metadata": {},
   "source": [
    "## Exploring Data with Pandas"
   ]
  },
  {
   "cell_type": "markdown",
   "metadata": {
    "deletable": false,
    "editable": false
   },
   "source": [
    "### Q1: \n",
    "How many data points (rows) are there in this dataset? Store it in ```num_rows```.\n",
    "\n",
    "<!--\n",
    "BEGIN QUESTION\n",
    "name: q1\n",
    "manual: false\n",
    "-->"
   ]
  },
  {
   "cell_type": "code",
   "execution_count": 4,
   "metadata": {},
   "outputs": [
    {
     "name": "stdout",
     "output_type": "stream",
     "text": [
      "2000\n"
     ]
    }
   ],
   "source": [
    "# your code here\n",
    "num_rows = len(df)\n",
    "print(num_rows)"
   ]
  },
  {
   "cell_type": "markdown",
   "metadata": {
    "deletable": false,
    "editable": false
   },
   "source": [
    "### Q2\n",
    "What are the max and min values in Global Sales? What about the quartiles (25%, 50%, and 75%)? Can you answer this question with a one-liner code?\n",
    "\n",
    "<!--\n",
    "BEGIN QUESTION\n",
    "name: q2\n",
    "manual: false\n",
    "-->"
   ]
  },
  {
   "cell_type": "code",
   "execution_count": 6,
   "metadata": {},
   "outputs": [
    {
     "data": {
      "text/plain": [
       "count    2000.000000\n",
       "mean        0.785105\n",
       "std         2.406875\n",
       "min         0.010000\n",
       "25%         0.110000\n",
       "50%         0.290000\n",
       "75%         0.772500\n",
       "max        82.530000\n",
       "Name: Global_Sales, dtype: float64"
      ]
     },
     "execution_count": 6,
     "metadata": {},
     "output_type": "execute_result"
    }
   ],
   "source": [
    "# your code here\n",
    "df['Global_Sales'].describe()"
   ]
  },
  {
   "cell_type": "markdown",
   "metadata": {
    "deletable": false,
    "editable": false
   },
   "source": [
    "### Q3\n",
    "What are the unique genres and consoles that the dataset contains? Store them in ```genre_unique``` and ```console_unique```.\n",
    "\n",
    "<!--\n",
    "BEGIN QUESTION\n",
    "name: q3\n",
    "manual: false\n",
    "-->"
   ]
  },
  {
   "cell_type": "code",
   "execution_count": 8,
   "metadata": {},
   "outputs": [
    {
     "name": "stdout",
     "output_type": "stream",
     "text": [
      "All genres: ['Fighting' 'Simulation' 'Shooter' 'Action' 'Sports' 'Role-Playing'\n",
      " 'Strategy' 'Platform' 'Racing' 'Misc' 'Puzzle' 'Adventure']\n",
      "All consoles: ['3DS' 'PC' 'X360' 'WiiU' 'PS3' 'DS' 'Wii' 'PS2' 'GC' 'PS' 'PSV' 'PS4'\n",
      " 'PSP' 'XB' 'XOne' 'GBA' 'DC']\n"
     ]
    }
   ],
   "source": [
    "# your code here\n",
    "genre_unique = df['Genre'].unique()\n",
    "console_unique = df['Console'].unique()\n",
    "print(\"All genres:\", genre_unique)\n",
    "print(\"All consoles:\", console_unique)"
   ]
  },
  {
   "cell_type": "markdown",
   "metadata": {
    "deletable": false,
    "editable": false
   },
   "source": [
    "### Q4\n",
    "What are the top five games with the most global sales? \n",
    "\n",
    "<!--\n",
    "BEGIN QUESTION\n",
    "name: q4\n",
    "manual: false\n",
    "-->"
   ]
  },
  {
   "cell_type": "code",
   "execution_count": 12,
   "metadata": {},
   "outputs": [
    {
     "data": {
      "text/plain": [
       "729                                       Wii Sports\n",
       "833                                         Wii Play\n",
       "1359                       New Super Mario Bros. Wii\n",
       "1692    Brain Age: Train Your Brain in Minutes a Day\n",
       "1006                  Call of Duty: Modern Warfare 3\n",
       "Name: Name, dtype: object"
      ]
     },
     "execution_count": 12,
     "metadata": {},
     "output_type": "execute_result"
    }
   ],
   "source": [
    "# your code here\n",
    "df.nlargest(5,'Global_Sales')['Name']\n"
   ]
  },
  {
   "cell_type": "markdown",
   "metadata": {
    "deletable": false,
    "editable": false
   },
   "source": [
    "### Q5 (Optional: Do it if you had enough time)\n",
    "How many games in the dataset are developed by Nintendo? What are their names?\n",
    "\n",
    "<!--\n",
    "BEGIN QUESTION\n",
    "name: q5\n",
    "manual: false\n",
    "-->"
   ]
  },
  {
   "cell_type": "code",
   "execution_count": 16,
   "metadata": {},
   "outputs": [
    {
     "data": {
      "text/plain": [
       "array(['Tekken 3D: Prime Edition', 'Super Mario 3D Land',\n",
       "       'Code Name: S.T.E.A.M.', 'Endless Ocean: Blue World',\n",
       "       'Wii Party U', 'NBA Courtside 2002', 'Endless Ocean',\n",
       "       'New Super Luigi U', 'New Super Mario Bros. U',\n",
       "       'Mario vs. Donkey Kong', 'Mario Golf: Advance Tour',\n",
       "       'Professor Layton and the Unwound Future',\n",
       "       'Kirby and the Rainbow Curse', 'Metroid Prime',\n",
       "       'Final Fantasy IV Advance', 'Kororinpa: Marble Mania',\n",
       "       'Mario Party 4', 'The Legend of Zelda: Twilight Princess',\n",
       "       'Style Savvy: Trendsetters', 'Fortune Street',\n",
       "       'Classic NES Series: Super Mario Bros.', 'Etrian Odyssey',\n",
       "       'The Legendary Starfy', 'Tetris DS', \"Luigi's Mansion\",\n",
       "       'Pokemon Mystery Dungeon: Gates to Infinity',\n",
       "       'Mario Superstar Baseball',\n",
       "       'The Legend of Zelda: Phantom Hourglass',\n",
       "       'Trauma Center: Under the Knife', 'Pokemon XD: Gale of Darkness',\n",
       "       'DK: King of Swing', 'Fire Emblem: The Sacred Stones',\n",
       "       'Mario Golf: Toadstool Tour', 'Geist', 'Super Smash Bros. Melee',\n",
       "       'ExciteBots: Trick Racing', 'Trauma Center: New Blood',\n",
       "       'Wii Sports', 'Star Fox: Assault', 'Solatorobo: Red the Hunter',\n",
       "       'Custom Robo', 'Metroid Prime Hunters', 'Magnetica',\n",
       "       'Metroid Prime: Federation Force', 'Wii Play', 'Children of Mana',\n",
       "       'Rhythm Heaven', 'Mario Party Advance',\n",
       "       'Mario vs. Donkey Kong: Mini-Land Mayhem!',\n",
       "       'Animal Crossing: City Folk', 'F-Zero GX',\n",
       "       'Trauma Center: Second Opinion', 'Big Brain Academy',\n",
       "       'Fire Emblem: Path of Radiance',\n",
       "       'Pokemon Ranger: Shadows of Almia', 'PokePark 2: Wonders Beyond',\n",
       "       'Sword of Mana', 'Mario Party 9', 'New Super Mario Bros. Wii',\n",
       "       'Golden Sun: The Lost Age', 'Wario World',\n",
       "       'Fire Emblem: Radiant Dawn', 'Pokemon Ranger', 'Hyrule Warriors',\n",
       "       'Paper Mario: Color Splash', 'Donkey Kong Jungle Beat',\n",
       "       'Battalion Wars 2', 'Super Mario Advance',\n",
       "       'Pokémon Mystery Dungeon: Blue Rescue Team',\n",
       "       'Xenoblade Chronicles X', 'Mario vs. Donkey Kong: Tipping Stars',\n",
       "       'Donkey Kong Country 3', 'Star Fox Command',\n",
       "       'Brain Age: Train Your Brain in Minutes a Day',\n",
       "       'Mario Tennis Ultra Smash', 'Fatal Frame: Maiden of Black Water',\n",
       "       'Donkey Kong Country: Tropical Freeze',\n",
       "       'Art Academy: Lessons for Everyone', 'Super Mario Galaxy',\n",
       "       'The Legend of Zelda: A Link to the Past', 'Art Academy',\n",
       "       'Glory of Heracles', 'Metroid Prime Pinball',\n",
       "       'Big Brain Academy: Wii Degree', 'Hamtaro: Ham-Ham Heartbreak'],\n",
       "      dtype=object)"
      ]
     },
     "execution_count": 16,
     "metadata": {},
     "output_type": "execute_result"
    }
   ],
   "source": [
    "# your code here\n",
    "df[df['Publisher'] == \"Nintendo\"]['Name'].unique()"
   ]
  },
  {
   "cell_type": "markdown",
   "metadata": {},
   "source": [
    "## Linear Regression"
   ]
  },
  {
   "cell_type": "markdown",
   "metadata": {},
   "source": [
    "Suppose that you want to regress the global sales on four features: Critic_Score, Critic_Count, User_Score, and User_Count. \n",
    "\n",
    "The input matrix $X$ and the output $y$ are given to you below."
   ]
  },
  {
   "cell_type": "code",
   "execution_count": 17,
   "metadata": {},
   "outputs": [],
   "source": [
    "## No need for modification, just run this cell \n",
    "X = df[['Critic_Score', 'Critic_Count', 'User_Score', 'User_Count']].values\n",
    "y = df[['Global_Sales']].values"
   ]
  },
  {
   "cell_type": "markdown",
   "metadata": {
    "deletable": false,
    "editable": false
   },
   "source": [
    "### Q6\n",
    "Use train_test_split function in sklearn to split the dataset into training and test sets. Set 80% of the dataset aside for training and use the rest for testing. (set random_state=0)\n",
    "\n",
    "<!--\n",
    "BEGIN QUESTION\n",
    "name: q6\n",
    "manual: false\n",
    "-->"
   ]
  },
  {
   "cell_type": "code",
   "execution_count": 18,
   "metadata": {},
   "outputs": [],
   "source": [
    "# your code here\n",
    "xtrain, xtest, ytrain, ytest = train_test_split(X,y,test_size=0.2, random_state = 0)"
   ]
  },
  {
   "cell_type": "markdown",
   "metadata": {
    "deletable": false,
    "editable": false
   },
   "source": [
    "### Q7\n",
    "Train your linear regression model using the training set you obtained above. Then, store the coefficients and the intercept of your model in ```coefs``` and ```intercept```, respectively. \n",
    "\n",
    "<!--\n",
    "BEGIN QUESTION\n",
    "name: q7\n",
    "manual: false\n",
    "-->"
   ]
  },
  {
   "cell_type": "code",
   "execution_count": 19,
   "metadata": {},
   "outputs": [
    {
     "name": "stdout",
     "output_type": "stream",
     "text": [
      "Coefficients: [[ 0.01667145  0.0226927  -0.0493082   0.00039435]]\n",
      "Intercept: [-0.74192701]\n"
     ]
    }
   ],
   "source": [
    "# your code here\n",
    "a = LinearRegression().fit(xtrain, ytrain)\n",
    "coefs = a.coef_\n",
    "intercept = a.intercept_\n",
    "print(\"Coefficients:\", coefs)\n",
    "print(\"Intercept:\", intercept)"
   ]
  },
  {
   "cell_type": "markdown",
   "metadata": {
    "deletable": false,
    "editable": false
   },
   "source": [
    "### Q8 (Optional: Do it if you had enough time.)\n",
    "Compute the mean-squared-error of your model's prediction on the training and test sets and store them in ```train_error``` and ```test_error```, respectively. \n",
    "\n",
    "<!--\n",
    "BEGIN QUESTION\n",
    "name: q8\n",
    "manual: false\n",
    "-->"
   ]
  },
  {
   "cell_type": "code",
   "execution_count": 26,
   "metadata": {},
   "outputs": [
    {
     "name": "stdout",
     "output_type": "stream",
     "text": [
      "6.363777903252099\n",
      "6.363777903252099\n"
     ]
    }
   ],
   "source": [
    "# your code here two ways both work\n",
    "train_error = np.mean((ytrain - a.predict(xtrain))**2)\n",
    "test_error = mean_squared_error(ytrain, a.predict(xtrain), squared=True)\n",
    "#np.mean((ytest - a.predict(xtest))**2)\n",
    "print(train_error)\n",
    "print(test_error)"
   ]
  },
  {
   "cell_type": "markdown",
   "metadata": {
    "deletable": false,
    "editable": false
   },
   "source": [
    "# Submit\n",
    "Make sure you have run all cells in your notebook in order before running the cell below, so that all images/graphs appear in the output.\n",
    "**Please save before submitting!**"
   ]
  },
  {
   "cell_type": "code",
   "execution_count": null,
   "metadata": {
    "deletable": false,
    "editable": false
   },
   "outputs": [],
   "source": [
    "# Save your notebook first, then run this cell to create a pdf for your reference."
   ]
  }
 ],
 "metadata": {
  "history": [
   {
    "code": "# Initialize Otter Grader\nimport otter\ngrader = otter.Notebook()",
    "id": "63ac5b99e508419d8719779c5c46fd6a",
    "idx": 0,
    "time": "2021-02-09T22:22:52.823Z",
    "type": "execution"
   },
   {
    "id": "63ac5b99e508419d8719779c5c46fd6a",
    "time": "2021-02-09T22:22:56.025Z",
    "type": "completion"
   },
   {
    "code": "import pandas as pd\nimport numpy as np\nimport matplotlib.pyplot as plt\nfrom sklearn.model_selection import train_test_split\nfrom sklearn.linear_model import LinearRegression\nfrom sklearn.metrics import mean_squared_error",
    "id": "62d7842721a04b1e83e179819c913709",
    "idx": 4,
    "time": "2021-02-09T22:23:09.667Z",
    "type": "execution"
   },
   {
    "code": "df = pd.read_csv(\"Video_Games_Sales_cleaned_sampled.csv\")\ndf.head(5)",
    "id": "b5d0831840ee45578ce1158e1b4545ca",
    "idx": 5,
    "time": "2021-02-09T22:23:13.181Z",
    "type": "execution"
   },
   {
    "id": "62d7842721a04b1e83e179819c913709",
    "time": "2021-02-09T22:23:16.164Z",
    "type": "completion"
   },
   {
    "id": "b5d0831840ee45578ce1158e1b4545ca",
    "time": "2021-02-09T22:23:16.294Z",
    "type": "completion"
   },
   {
    "code": "# your code here\nnum_rows = len(df)\nprint(num_rows)",
    "id": "a32eacc03d624cffa4213659f7eb6351",
    "idx": 8,
    "time": "2021-02-09T22:25:42.124Z",
    "type": "execution"
   },
   {
    "id": "a32eacc03d624cffa4213659f7eb6351",
    "time": "2021-02-09T22:25:42.192Z",
    "type": "completion"
   },
   {
    "code": "# your code here\ndf['Global Sales'].describe()",
    "id": "f0baa6e92c6d43d38af3c2ec2ccb0d6e",
    "idx": 10,
    "time": "2021-02-09T22:27:56.585Z",
    "type": "execution"
   },
   {
    "id": "f0baa6e92c6d43d38af3c2ec2ccb0d6e",
    "time": "2021-02-09T22:27:57.025Z",
    "type": "completion"
   },
   {
    "code": "# your code here\ndf['Global_Sales'].describe()",
    "id": "f0baa6e92c6d43d38af3c2ec2ccb0d6e",
    "idx": 10,
    "time": "2021-02-09T22:28:04.987Z",
    "type": "execution"
   },
   {
    "id": "f0baa6e92c6d43d38af3c2ec2ccb0d6e",
    "time": "2021-02-09T22:28:05.072Z",
    "type": "completion"
   },
   {
    "code": "# your code here\ngenre_unique = df['genres'].unique()\nconsole_unique = df['consoles'].unique()\nprint(\"All genres:\", genre_unique)\nprint(\"All consoles:\", console_unique)",
    "id": "e601b7f90ac54da0a780ea3ca2e3efe1",
    "idx": 12,
    "time": "2021-02-09T22:29:02.147Z",
    "type": "execution"
   },
   {
    "id": "e601b7f90ac54da0a780ea3ca2e3efe1",
    "time": "2021-02-09T22:29:02.274Z",
    "type": "completion"
   },
   {
    "code": "# your code here\ngenre_unique = df['Genre'].unique()\nconsole_unique = df['Console'].unique()\nprint(\"All genres:\", genre_unique)\nprint(\"All consoles:\", console_unique)",
    "id": "e601b7f90ac54da0a780ea3ca2e3efe1",
    "idx": 12,
    "time": "2021-02-09T22:29:17.123Z",
    "type": "execution"
   },
   {
    "id": "e601b7f90ac54da0a780ea3ca2e3efe1",
    "time": "2021-02-09T22:29:17.207Z",
    "type": "completion"
   },
   {
    "code": "# your code here\ndf['Global_Sales'].nlarget(5)",
    "id": "c0d70c3783f74f968bbabb93db12d7be",
    "idx": 14,
    "time": "2021-02-09T22:30:59.036Z",
    "type": "execution"
   },
   {
    "id": "c0d70c3783f74f968bbabb93db12d7be",
    "time": "2021-02-09T22:30:59.133Z",
    "type": "completion"
   },
   {
    "code": "# your code here\ndf['Global_Sales'].nlargest(5)",
    "id": "c0d70c3783f74f968bbabb93db12d7be",
    "idx": 14,
    "time": "2021-02-09T22:31:03.286Z",
    "type": "execution"
   },
   {
    "id": "c0d70c3783f74f968bbabb93db12d7be",
    "time": "2021-02-09T22:31:03.360Z",
    "type": "completion"
   },
   {
    "code": "# your code here\ndf.nlargest(5,'Global_Sales')\n",
    "id": "c0d70c3783f74f968bbabb93db12d7be",
    "idx": 14,
    "time": "2021-02-09T22:31:53.490Z",
    "type": "execution"
   },
   {
    "id": "c0d70c3783f74f968bbabb93db12d7be",
    "time": "2021-02-09T22:31:53.613Z",
    "type": "completion"
   },
   {
    "code": "# your code here\ndf.nlargest(5,'Global_Sales')['Name']\n",
    "id": "c0d70c3783f74f968bbabb93db12d7be",
    "idx": 14,
    "time": "2021-02-09T22:32:01.158Z",
    "type": "execution"
   },
   {
    "id": "c0d70c3783f74f968bbabb93db12d7be",
    "time": "2021-02-09T22:32:01.240Z",
    "type": "completion"
   },
   {
    "code": "# your code here\ndf[df['Publisher'] == \"Nintendo\"]",
    "id": "a6574d3473724753a26ecc1c4fcf0a8c",
    "idx": 16,
    "time": "2021-02-09T22:33:27.221Z",
    "type": "execution"
   },
   {
    "id": "a6574d3473724753a26ecc1c4fcf0a8c",
    "time": "2021-02-09T22:33:27.374Z",
    "type": "completion"
   },
   {
    "code": "# your code here\ndf[df['Publisher'] == \"Nintendo\"].unique()",
    "id": "a6574d3473724753a26ecc1c4fcf0a8c",
    "idx": 16,
    "time": "2021-02-09T22:33:33.340Z",
    "type": "execution"
   },
   {
    "id": "a6574d3473724753a26ecc1c4fcf0a8c",
    "time": "2021-02-09T22:33:33.432Z",
    "type": "completion"
   },
   {
    "code": "# your code here\ndf[df['Publisher'] == \"Nintendo\"]['Publisher'].unique()",
    "id": "a6574d3473724753a26ecc1c4fcf0a8c",
    "idx": 16,
    "time": "2021-02-09T22:34:02.207Z",
    "type": "execution"
   },
   {
    "id": "a6574d3473724753a26ecc1c4fcf0a8c",
    "time": "2021-02-09T22:34:02.278Z",
    "type": "completion"
   },
   {
    "code": "# your code here\ndf[df['Publisher'] == \"Nintendo\"]['Name'].unique()",
    "id": "a6574d3473724753a26ecc1c4fcf0a8c",
    "idx": 16,
    "time": "2021-02-09T22:34:09.760Z",
    "type": "execution"
   },
   {
    "id": "a6574d3473724753a26ecc1c4fcf0a8c",
    "time": "2021-02-09T22:34:09.844Z",
    "type": "completion"
   },
   {
    "code": "## No need for modification, just run this cell \nX = df[['Critic_Score', 'Critic_Count', 'User_Score', 'User_Count']].values\ny = df[['Global_Sales']].values",
    "id": "5b0594cd7a744d36af98efe72ec5f960",
    "idx": 19,
    "time": "2021-02-09T22:37:37.089Z",
    "type": "execution"
   },
   {
    "id": "5b0594cd7a744d36af98efe72ec5f960",
    "time": "2021-02-09T22:37:37.173Z",
    "type": "completion"
   },
   {
    "code": "# your code here\nxtrain, xtest, ytrain, ytest = train_test_split(X,y,test_size=0.2, random_state = 0)",
    "id": "5169e242458a46608184aef55a4129d2",
    "idx": 21,
    "time": "2021-02-09T22:40:12.701Z",
    "type": "execution"
   },
   {
    "id": "5169e242458a46608184aef55a4129d2",
    "time": "2021-02-09T22:40:12.773Z",
    "type": "completion"
   },
   {
    "code": "# your code here\na = LinearRegression().fit(xtrain, ytrain)\ncoefs = a.coef_\nintercept = a.intercept_\nprint(\"Coefficients:\", coefs)\nprint(\"Intercept:\", intercept)",
    "id": "8a0d994014074b43bf5f1e2ea88adf30",
    "idx": 23,
    "time": "2021-02-09T22:44:41.147Z",
    "type": "execution"
   },
   {
    "id": "8a0d994014074b43bf5f1e2ea88adf30",
    "time": "2021-02-09T22:44:41.228Z",
    "type": "completion"
   },
   {
    "code": "# your code here\ntrain_error = np.mean((y_train - model.predict(X_train))**2)\ntest_error = np.mean((y_test - model.predict(X_test))**2)\nprint(train_error)\nprint(test_error)",
    "id": "cbbe2f9ba6b940e282c51e3e4fd9ef27",
    "idx": 25,
    "time": "2021-02-09T22:52:12.069Z",
    "type": "execution"
   },
   {
    "id": "cbbe2f9ba6b940e282c51e3e4fd9ef27",
    "time": "2021-02-09T22:52:12.164Z",
    "type": "completion"
   },
   {
    "code": "# your code here\ntrain_error = np.mean((ytrain - model.predict(Xtrain))**2)\ntest_error = np.mean((ytest - model.predict(Xtest))**2)\nprint(train_error)\nprint(test_error)",
    "id": "cbbe2f9ba6b940e282c51e3e4fd9ef27",
    "idx": 25,
    "time": "2021-02-09T22:52:22.061Z",
    "type": "execution"
   },
   {
    "id": "cbbe2f9ba6b940e282c51e3e4fd9ef27",
    "time": "2021-02-09T22:52:22.168Z",
    "type": "completion"
   },
   {
    "code": "# your code here\ntrain_error = np.mean((ytrain - a.predict(Xtrain))**2)\ntest_error = np.mean((ytest - a.predict(Xtest))**2)\nprint(train_error)\nprint(test_error)",
    "id": "cbbe2f9ba6b940e282c51e3e4fd9ef27",
    "idx": 25,
    "time": "2021-02-09T22:52:28.621Z",
    "type": "execution"
   },
   {
    "id": "cbbe2f9ba6b940e282c51e3e4fd9ef27",
    "time": "2021-02-09T22:52:28.710Z",
    "type": "completion"
   },
   {
    "code": "# your code here\ntrain_error = np.mean((ytrain - a.predict(xtrain))**2)\ntest_error = np.mean((ytest - a.predict(xtest))**2)\nprint(train_error)\nprint(test_error)",
    "id": "cbbe2f9ba6b940e282c51e3e4fd9ef27",
    "idx": 25,
    "time": "2021-02-09T22:52:33.984Z",
    "type": "execution"
   },
   {
    "id": "cbbe2f9ba6b940e282c51e3e4fd9ef27",
    "time": "2021-02-09T22:52:34.052Z",
    "type": "completion"
   },
   {
    "code": "# your code here\ntrain_error = np.mean((ytrain - a.predict(xtrain))**2)\ntest_error = mean_squared_error(ytrain, model.predict(xtrain), squared=True)\n#np.mean((ytest - a.predict(xtest))**2)\nprint(train_error)\nprint(test_error)",
    "id": "cbbe2f9ba6b940e282c51e3e4fd9ef27",
    "idx": 25,
    "time": "2021-02-09T22:52:53.843Z",
    "type": "execution"
   },
   {
    "id": "cbbe2f9ba6b940e282c51e3e4fd9ef27",
    "time": "2021-02-09T22:52:53.923Z",
    "type": "completion"
   },
   {
    "code": "# your code here\ntrain_error = np.mean((ytrain - a.predict(xtrain))**2)\ntest_error = mean_squared_error(ytrain, a.predict(xtrain), squared=True)\n#np.mean((ytest - a.predict(xtest))**2)\nprint(train_error)\nprint(test_error)",
    "id": "cbbe2f9ba6b940e282c51e3e4fd9ef27",
    "idx": 25,
    "time": "2021-02-09T22:52:56.548Z",
    "type": "execution"
   },
   {
    "id": "cbbe2f9ba6b940e282c51e3e4fd9ef27",
    "time": "2021-02-09T22:52:56.615Z",
    "type": "completion"
   },
   {
    "code": "# your code here two ways both work\ntrain_error = np.mean((ytrain - a.predict(xtrain))**2)\ntest_error = mean_squared_error(ytrain, a.predict(xtrain), squared=True)\n#np.mean((ytest - a.predict(xtest))**2)\nprint(train_error)\nprint(test_error)",
    "id": "cbbe2f9ba6b940e282c51e3e4fd9ef27",
    "idx": 25,
    "time": "2021-02-09T22:53:02.541Z",
    "type": "execution"
   },
   {
    "id": "cbbe2f9ba6b940e282c51e3e4fd9ef27",
    "time": "2021-02-09T22:53:02.608Z",
    "type": "completion"
   }
  ],
  "kernelspec": {
   "display_name": "Python 3",
   "language": "python",
   "name": "python3"
  },
  "language_info": {
   "codemirror_mode": {
    "name": "ipython",
    "version": 3
   },
   "file_extension": ".py",
   "mimetype": "text/x-python",
   "name": "python",
   "nbconvert_exporter": "python",
   "pygments_lexer": "ipython3",
   "version": "3.8.6"
  }
 },
 "nbformat": 4,
 "nbformat_minor": 4
}
